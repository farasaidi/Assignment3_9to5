{
    "metadata": {
        "kernelspec": {
            "name": "SQL",
            "display_name": "SQL",
            "language": "sql"
        },
        "language_info": {
            "name": "sql",
            "version": ""
        },
        "extensions": {
            "azuredatastudio": {
                "version": 1,
                "views": []
            }
        }
    },
    "nbformat_minor": 2,
    "nbformat": 4,
    "cells": [
        {
            "cell_type": "markdown",
            "source": [
                "# <span style=\"font-size: 20pt; font-family: Montserrat, sans-serif; color: rgb(92, 148, 206); background-color: rgb(255, 255, 255); font-weight: 700; font-variant-east-asian: normal; vertical-align: baseline; white-space: pre-wrap;\">Graded Assignment 3: 9 to 5</span>\n",
                "\n",
                "  \n",
                "\n",
                "<span style=\"font-size: 10pt; font-family: &quot;Times New Roman&quot;; color: rgb(102, 102, 102); background-color: rgb(255, 255, 255); font-variant-east-asian: normal; vertical-align: baseline; white-space: pre-wrap;\">Time to show off your SQL skills! For each question, copy the SQL query you used and make note of the answer.</span>\n",
                "\n",
                "  \n",
                "\n",
                "## <span style=\"font-size: 12pt; font-family: Montserrat, sans-serif; color: rgb(53, 74, 95); background-color: rgb(255, 255, 255); font-weight: 700; font-variant-east-asian: normal; vertical-align: baseline; white-space: pre-wrap;\">The Dataset</span>\n",
                "\n",
                "<span style=\"font-size: 10pt; font-family: &quot;Times New Roman&quot;; color: rgb(102, 102, 102); background-color: rgb(255, 255, 255); font-variant-east-asian: normal; vertical-align: baseline; white-space: pre-wrap;\">For this assignment, you will be using the Bureau of Labor Statistics (BLS) Current Employment Survey (CES) results which can be found on</span> [<span style=\"font-size: 10pt; font-family: &quot;Times New Roman&quot;; color: rgb(17, 85, 204); background-color: rgb(255, 255, 255); font-variant-east-asian: normal; text-decoration-line: underline; vertical-align: baseline; white-space: pre-wrap;\">Kaggle</span>](https://www.kaggle.com/bls/employment)<span style=\"font-size: 10pt; font-family: &quot;Times New Roman&quot;; color: rgb(102, 102, 102); background-color: rgb(255, 255, 255); font-variant-east-asian: normal; vertical-align: baseline; white-space: pre-wrap;\">.</span>\n",
                "\n",
                "  \n",
                "\n",
                "## <span style=\"font-size: 12pt; font-family: Montserrat, sans-serif; color: rgb(53, 74, 95); background-color: rgb(255, 255, 255); font-weight: 700; font-variant-east-asian: normal; vertical-align: baseline; white-space: pre-wrap;\">Business Issue</span>\n",
                "\n",
                "<span style=\"font-size: 10pt; font-family: &quot;Times New Roman&quot;; color: rgb(102, 102, 102); background-color: rgb(255, 255, 255); font-variant-east-asian: normal; vertical-align: baseline; white-space: pre-wrap;\">You are working for the Bureau of Labor Statistics with the United States government and have been approached by your boss with an important meeting request. You have been asked by your supervisor to meet with Dolly Parton whose nonprofit is looking to shed light on the state of employment in the United States. As part of the 9 to 5 project, their research is focused on production and nonsupervisory employees and how those employees fare compared to all employees in the United States. While the data the BLS collects from the CES is publicly available, Dolly Parton and her colleagues need your assistance navigating the thousands of rows in each table in LaborStatisticsDB.</span>\n",
                "\n",
                "  \n",
                "\n",
                "## <span style=\"font-size: 12pt; font-family: Montserrat, sans-serif; color: rgb(53, 74, 95); background-color: rgb(255, 255, 255); font-weight: 700; font-variant-east-asian: normal; vertical-align: baseline; white-space: pre-wrap;\">About the Dataset</span>\n",
                "\n",
                "<span style=\"font-size: 10pt; font-family: &quot;Times New Roman&quot;; color: rgb(102, 102, 102); background-color: rgb(255, 255, 255); font-variant-east-asian: normal; vertical-align: baseline; white-space: pre-wrap;\">This dataset comes directly from the Bureau of Labor Statistics’ Current Employment Survey (CES). Here are some things you need to know:</span>\n",
                "\n",
                "1. <span style=\"font-size: 10pt; background-color: rgb(255, 255, 255); font-variant-east-asian: normal; vertical-align: baseline; white-space: pre-wrap;\">The industry table contains an NAICS code. This is different from the industry code. NAICS stands for North American Industry Classification System.</span>\n",
                "    \n",
                "2. <span style=\"font-size: 10pt; background-color: rgb(255, 255, 255); font-variant-east-asian: normal; vertical-align: baseline; white-space: pre-wrap;\">Series ID is composed of multiple different codes. CES stands for Current Employment Survey, the name of the survey which collected the data. The industry code as specified by the BLS and the data type code as specified in the datatype table.</span>\n",
                "    \n",
                "\n",
                "  \n",
                "\n",
                "## <span style=\"font-size: 12pt; font-family: Montserrat, sans-serif; color: rgb(53, 74, 95); background-color: rgb(255, 255, 255); font-weight: 700; font-variant-east-asian: normal; vertical-align: baseline; white-space: pre-wrap;\">Set Up</span>\n",
                "\n",
                "<span style=\"font-size: 10pt; font-family: &quot;Times New Roman&quot;; color: rgb(102, 102, 102); background-color: rgb(255, 255, 255); font-variant-east-asian: normal; vertical-align: baseline; white-space: pre-wrap;\">To connect to the database, use the same connection info used during the SQL lessons.&nbsp;</span> \n",
                "\n",
                "<span style=\"font-size: 10pt; font-family: &quot;Times New Roman&quot;; color: rgb(102, 102, 102); background-color: rgb(255, 255, 255); font-variant-east-asian: normal; vertical-align: baseline; white-space: pre-wrap;\">For the assignment, we will be using the LaborStatisticsDB database.</span>\n",
                "\n",
                "  \n",
                "\n",
                "## <span style=\"font-size: 12pt; font-family: Montserrat, sans-serif; color: rgb(53, 74, 95); background-color: rgb(255, 255, 255); font-weight: 700; font-variant-east-asian: normal; vertical-align: baseline; white-space: pre-wrap;\">Database Exploration</span>\n",
                "\n",
                "<span style=\"font-size: 10pt; font-family: &quot;Times New Roman&quot;; color: rgb(102, 102, 102); background-color: rgb(255, 255, 255); font-variant-east-asian: normal; vertical-align: baseline; white-space: pre-wrap;\">To start with, let’s get to know the database further.</span>\n",
                "\n",
                "1. <span style=\"background-color: rgb(255, 255, 255); color: rgb(102, 102, 102); font-family: &quot;Times New Roman&quot;; font-size: 10pt; white-space: pre-wrap;\">Use this space to make note of each table in the database, the columns within each table, each column’s data type, and how the tables are connected. You can write this down or draw a diagram. Whatever method helps you get an understanding of what is going on with LaborStatisticsDB.</span>"
            ],
            "metadata": {
                "azdata_cell_guid": "28ea70c5-f0be-4197-b6c0-ade22886a708"
            },
            "attachments": {}
        },
        {
            "cell_type": "markdown",
            "source": [
                "To add a photo, diagram or document to your file, drop the file into the folder that holds this notebook.  Use the the link button to the right of the  \\</\\> symbol in the gray part of this cell, the link is just the name of your file."
            ],
            "metadata": {
                "azdata_cell_guid": "aeae906c-752c-49d3-b482-3ed6a4f54b6e"
            },
            "attachments": {}
        },
        {
            "cell_type": "code",
            "source": [
                ""
            ],
            "metadata": {
                "azdata_cell_guid": "dbf3633e-8503-49e6-b128-cf010d1558cf",
                "language": "sql"
            },
            "outputs": [],
            "execution_count": null
        },
        {
            "cell_type": "markdown",
            "source": [
                "2. <span style=\"background-color: rgb(255, 255, 255); color: rgb(102, 102, 102); font-family: Arvo, serif; font-size: 10pt; white-space: pre-wrap;\">What is the datatype for women employees?</span>"
            ],
            "metadata": {
                "azdata_cell_guid": "01b111b7-baf1-4617-88bc-cd442826c9c9"
            },
            "attachments": {}
        },
        {
            "cell_type": "code",
            "source": [
                "SELECT *\n",
                "FROM LaborStatisticsDB.dbo.datatype\n",
                "where data_type_text like '%women employees%'\n",
                "\n",
                "  \n",
                ""
            ],
            "metadata": {
                "azdata_cell_guid": "02fa547c-0bb7-4a40-81c2-f5c05154df04",
                "language": "sql"
            },
            "outputs": [
                {
                    "output_type": "display_data",
                    "data": {
                        "text/html": "(2 rows affected)"
                    },
                    "metadata": {}
                },
                {
                    "output_type": "display_data",
                    "data": {
                        "text/html": "Total execution time: 00:00:00.089"
                    },
                    "metadata": {}
                },
                {
                    "output_type": "execute_result",
                    "execution_count": 5,
                    "data": {
                        "application/vnd.dataresource+json": {
                            "schema": {
                                "fields": [
                                    {
                                        "name": "data_type_code"
                                    },
                                    {
                                        "name": "data_type_text"
                                    }
                                ]
                            },
                            "data": [
                                {
                                    "0": "10",
                                    "1": "WOMEN EMPLOYEES"
                                },
                                {
                                    "0": "39",
                                    "1": "WOMEN EMPLOYEES-TO-ALL EMPLOYEES RATIO"
                                }
                            ]
                        },
                        "text/html": "<table><tr><th>data_type_code</th><th>data_type_text</th></tr><tr><td>10</td><td>WOMEN EMPLOYEES</td></tr><tr><td>39</td><td>WOMEN EMPLOYEES-TO-ALL EMPLOYEES RATIO</td></tr></table>"
                    },
                    "metadata": {}
                }
            ],
            "execution_count": 5
        },
        {
            "cell_type": "markdown",
            "source": [
                "3. <span style=\"background-color: rgb(255, 255, 255); font-size: 10pt; white-space: pre-wrap; color: rgb(102, 102, 102); font-family: Arvo, serif;\">What is the series id for&nbsp; women employees in the commercial banking industry in the financial activities supersector?</span>"
            ],
            "metadata": {
                "azdata_cell_guid": "325f85cc-9545-47b3-b975-3aab6278e4ea"
            },
            "attachments": {}
        },
        {
            "cell_type": "code",
            "source": [
                "\n",
                "SELECT *--series_id, series_title\n",
                "FROM LaborStatisticsDB.dbo.series\n",
                "WHERE series_title = 'women employees' and industry_code=55522110\n",
                "\n",
                "\n",
                "SELECT *--industry_code, industry_name\n",
                "FROM LaborStatisticsDB.dbo.industry\n",
                "WHERE industry_name = 'Commercial Banking' and industry_code=55522110\n",
                "\n",
                "SELECT *\n",
                "FROM LaborStatisticsDB.dbo.supersector\n",
                "WHERE supersector_name = 'Financial Activities'\n",
                ""
            ],
            "metadata": {
                "azdata_cell_guid": "1315af1f-45f8-457d-8bbe-8e9f46303fca",
                "language": "sql"
            },
            "outputs": [
                {
                    "output_type": "display_data",
                    "data": {
                        "text/html": "(2 rows affected)"
                    },
                    "metadata": {}
                },
                {
                    "output_type": "display_data",
                    "data": {
                        "text/html": "(1 row affected)"
                    },
                    "metadata": {}
                },
                {
                    "output_type": "display_data",
                    "data": {
                        "text/html": "(1 row affected)"
                    },
                    "metadata": {}
                },
                {
                    "output_type": "display_data",
                    "data": {
                        "text/html": "Total execution time: 00:00:00.122"
                    },
                    "metadata": {}
                },
                {
                    "output_type": "execute_result",
                    "execution_count": 20,
                    "data": {
                        "application/vnd.dataresource+json": {
                            "schema": {
                                "fields": [
                                    {
                                        "name": "series_id"
                                    },
                                    {
                                        "name": "supersector_code"
                                    },
                                    {
                                        "name": "industry_code"
                                    },
                                    {
                                        "name": "data_type_code"
                                    },
                                    {
                                        "name": "seasonal"
                                    },
                                    {
                                        "name": "series_title"
                                    }
                                ]
                            },
                            "data": [
                                {
                                    "0": "CES5552211010",
                                    "1": "55",
                                    "2": "55522110",
                                    "3": "10",
                                    "4": "S",
                                    "5": "Women employees"
                                },
                                {
                                    "0": "CEU5552211010",
                                    "1": "55",
                                    "2": "55522110",
                                    "3": "10",
                                    "4": "U",
                                    "5": "Women employees"
                                }
                            ]
                        },
                        "text/html": "<table><tr><th>series_id</th><th>supersector_code</th><th>industry_code</th><th>data_type_code</th><th>seasonal</th><th>series_title</th></tr><tr><td>CES5552211010</td><td>55</td><td>55522110</td><td>10</td><td>S</td><td>Women employees</td></tr><tr><td>CEU5552211010</td><td>55</td><td>55522110</td><td>10</td><td>U</td><td>Women employees</td></tr></table>"
                    },
                    "metadata": {}
                },
                {
                    "output_type": "execute_result",
                    "execution_count": 20,
                    "data": {
                        "application/vnd.dataresource+json": {
                            "schema": {
                                "fields": [
                                    {
                                        "name": "id"
                                    },
                                    {
                                        "name": "industry_code"
                                    },
                                    {
                                        "name": "naics_code"
                                    },
                                    {
                                        "name": "publishing_status"
                                    },
                                    {
                                        "name": "industry_name"
                                    },
                                    {
                                        "name": "display_level"
                                    },
                                    {
                                        "name": "selectable"
                                    },
                                    {
                                        "name": "sort_sequence"
                                    }
                                ]
                            },
                            "data": [
                                {
                                    "0": "563",
                                    "1": "55522110",
                                    "2": "52211",
                                    "3": "A",
                                    "4": "Commercial banking",
                                    "5": "6",
                                    "6": "T",
                                    "7": "564"
                                }
                            ]
                        },
                        "text/html": "<table><tr><th>id</th><th>industry_code</th><th>naics_code</th><th>publishing_status</th><th>industry_name</th><th>display_level</th><th>selectable</th><th>sort_sequence</th></tr><tr><td>563</td><td>55522110</td><td>52211</td><td>A</td><td>Commercial banking</td><td>6</td><td>T</td><td>564</td></tr></table>"
                    },
                    "metadata": {}
                },
                {
                    "output_type": "execute_result",
                    "execution_count": 20,
                    "data": {
                        "application/vnd.dataresource+json": {
                            "schema": {
                                "fields": [
                                    {
                                        "name": "supersector_code"
                                    },
                                    {
                                        "name": "supersector_name"
                                    }
                                ]
                            },
                            "data": [
                                {
                                    "0": "55",
                                    "1": "Financial activities"
                                }
                            ]
                        },
                        "text/html": "<table><tr><th>supersector_code</th><th>supersector_name</th></tr><tr><td>55</td><td>Financial activities</td></tr></table>"
                    },
                    "metadata": {}
                }
            ],
            "execution_count": 20
        },
        {
            "cell_type": "markdown",
            "source": [
                "## <span style=\"font-size: 12pt; font-family: Montserrat, sans-serif; color: rgb(53, 74, 95); background-color: rgb(255, 255, 255); font-weight: 700; font-variant-numeric: normal; font-variant-east-asian: normal; vertical-align: baseline; white-space: pre-wrap;\">Join in on the Fun</span>\n",
                "\n",
                "<span style=\"font-size: 10pt; font-family: Arvo, serif; color: rgb(102, 102, 102); background-color: rgb(255, 255, 255); font-variant-numeric: normal; font-variant-east-asian: normal; vertical-align: baseline; white-space: pre-wrap;\">Time to start joining! You can choose the type of join you use, just make sure to make a&nbsp; note!</span>\n",
                "\n",
                "1. <span style=\"background-color: rgb(255, 255, 255); font-size: 10pt; white-space: pre-wrap; color: rgb(102, 102, 102); font-family: Arvo, serif;\">Join&nbsp; annual_2016 with series on series_id. We only want the data in the annual_2016 table to be included in the result.</span>"
            ],
            "metadata": {
                "azdata_cell_guid": "ec1dfc63-ad41-4349-8c26-1d326ace8c6c"
            },
            "attachments": {}
        },
        {
            "cell_type": "code",
            "source": [
                "SELECT top 10 p.*\n",
                "FROM  LaborStatisticsDB.dbo.annual_2016 as p\n",
                "JOIN LaborStatisticsDB.dbo.series as s\n",
                "ON p.series_id = s.series_id"
            ],
            "metadata": {
                "azdata_cell_guid": "cf90f0b4-c482-4fbb-ac17-d2244881caab",
                "language": "sql"
            },
            "outputs": [
                {
                    "output_type": "display_data",
                    "data": {
                        "text/html": "(10 rows affected)"
                    },
                    "metadata": {}
                },
                {
                    "output_type": "display_data",
                    "data": {
                        "text/html": "Total execution time: 00:01:28.423"
                    },
                    "metadata": {}
                },
                {
                    "output_type": "execute_result",
                    "execution_count": 24,
                    "data": {
                        "application/vnd.dataresource+json": {
                            "schema": {
                                "fields": [
                                    {
                                        "name": "id"
                                    },
                                    {
                                        "name": "series_id"
                                    },
                                    {
                                        "name": "year"
                                    },
                                    {
                                        "name": "period"
                                    },
                                    {
                                        "name": "value"
                                    },
                                    {
                                        "name": "footnote_codes"
                                    },
                                    {
                                        "name": "original_file"
                                    }
                                ]
                            },
                            "data": [
                                {
                                    "0": "8755",
                                    "1": "CEU0000000001",
                                    "2": "2016",
                                    "3": "M13",
                                    "4": "144306",
                                    "5": "NULL",
                                    "6": "ce.data.0.AllCESSeries.csv"
                                },
                                {
                                    "0": "22220",
                                    "1": "CEU0000000001",
                                    "2": "2016",
                                    "3": "M13",
                                    "4": "144306",
                                    "5": "NULL",
                                    "6": "ce.data.00a.TotalNonfarm.Employment.csv"
                                },
                                {
                                    "0": "8756",
                                    "1": "CEU0000000010",
                                    "2": "2016",
                                    "3": "M13",
                                    "4": "71492",
                                    "5": "NULL",
                                    "6": "ce.data.0.AllCESSeries.csv"
                                },
                                {
                                    "0": "22221",
                                    "1": "CEU0000000010",
                                    "2": "2016",
                                    "3": "M13",
                                    "4": "71492",
                                    "5": "NULL",
                                    "6": "ce.data.00a.TotalNonfarm.Employment.csv"
                                },
                                {
                                    "0": "6281",
                                    "1": "CEU0500000001",
                                    "2": "2016",
                                    "3": "M13",
                                    "4": "122083",
                                    "5": "NULL",
                                    "6": "ce.data.05a.TotalPrivate.Employment.csv"
                                },
                                {
                                    "0": "8757",
                                    "1": "CEU0500000001",
                                    "2": "2016",
                                    "3": "M13",
                                    "4": "122083",
                                    "5": "NULL",
                                    "6": "ce.data.0.AllCESSeries.csv"
                                },
                                {
                                    "0": "7954",
                                    "1": "CEU0500000002",
                                    "2": "2016",
                                    "3": "M13",
                                    "4": "34.4",
                                    "5": "NULL",
                                    "6": "ce.data.05b.TotalPrivate.AllEmployeeHoursAndEarnings.csv"
                                },
                                {
                                    "0": "8758",
                                    "1": "CEU0500000002",
                                    "2": "2016",
                                    "3": "M13",
                                    "4": "34.4",
                                    "5": "NULL",
                                    "6": "ce.data.0.AllCESSeries.csv"
                                },
                                {
                                    "0": "7955",
                                    "1": "CEU0500000003",
                                    "2": "2016",
                                    "3": "M13",
                                    "4": "25.65",
                                    "5": "NULL",
                                    "6": "ce.data.05b.TotalPrivate.AllEmployeeHoursAndEarnings.csv"
                                },
                                {
                                    "0": "8759",
                                    "1": "CEU0500000003",
                                    "2": "2016",
                                    "3": "M13",
                                    "4": "25.65",
                                    "5": "NULL",
                                    "6": "ce.data.0.AllCESSeries.csv"
                                }
                            ]
                        },
                        "text/html": "<table><tr><th>id</th><th>series_id</th><th>year</th><th>period</th><th>value</th><th>footnote_codes</th><th>original_file</th></tr><tr><td>8755</td><td>CEU0000000001</td><td>2016</td><td>M13</td><td>144306</td><td>NULL</td><td>ce.data.0.AllCESSeries.csv</td></tr><tr><td>22220</td><td>CEU0000000001</td><td>2016</td><td>M13</td><td>144306</td><td>NULL</td><td>ce.data.00a.TotalNonfarm.Employment.csv</td></tr><tr><td>8756</td><td>CEU0000000010</td><td>2016</td><td>M13</td><td>71492</td><td>NULL</td><td>ce.data.0.AllCESSeries.csv</td></tr><tr><td>22221</td><td>CEU0000000010</td><td>2016</td><td>M13</td><td>71492</td><td>NULL</td><td>ce.data.00a.TotalNonfarm.Employment.csv</td></tr><tr><td>6281</td><td>CEU0500000001</td><td>2016</td><td>M13</td><td>122083</td><td>NULL</td><td>ce.data.05a.TotalPrivate.Employment.csv</td></tr><tr><td>8757</td><td>CEU0500000001</td><td>2016</td><td>M13</td><td>122083</td><td>NULL</td><td>ce.data.0.AllCESSeries.csv</td></tr><tr><td>7954</td><td>CEU0500000002</td><td>2016</td><td>M13</td><td>34.4</td><td>NULL</td><td>ce.data.05b.TotalPrivate.AllEmployeeHoursAndEarnings.csv</td></tr><tr><td>8758</td><td>CEU0500000002</td><td>2016</td><td>M13</td><td>34.4</td><td>NULL</td><td>ce.data.0.AllCESSeries.csv</td></tr><tr><td>7955</td><td>CEU0500000003</td><td>2016</td><td>M13</td><td>25.65</td><td>NULL</td><td>ce.data.05b.TotalPrivate.AllEmployeeHoursAndEarnings.csv</td></tr><tr><td>8759</td><td>CEU0500000003</td><td>2016</td><td>M13</td><td>25.65</td><td>NULL</td><td>ce.data.0.AllCESSeries.csv</td></tr></table>"
                    },
                    "metadata": {}
                }
            ],
            "execution_count": 24
        },
        {
            "cell_type": "markdown",
            "source": [
                "2. <span style=\"background-color: rgb(255, 255, 255); font-size: 10pt; white-space: pre-wrap; color: rgb(102, 102, 102); font-family: Arvo, serif;\">Join series and datatype on data_type_code</span>"
            ],
            "metadata": {
                "azdata_cell_guid": "710b59ae-224b-4f9d-b1a4-4a6b89048bbb"
            },
            "attachments": {}
        },
        {
            "cell_type": "code",
            "source": [
                "SELECT top 10 *\n",
                "FROM LaborStatisticsDB.dbo.series as s\n",
                "INNER JOIN LaborStatisticsDB.dbo.datatype as d\n",
                "ON s.data_type_code = d.data_type_code\n",
                "\n",
                ""
            ],
            "metadata": {
                "azdata_cell_guid": "fca61371-c9b5-4823-a4b4-34c1279ece3e",
                "language": "sql"
            },
            "outputs": [
                {
                    "output_type": "display_data",
                    "data": {
                        "text/html": "(10 rows affected)"
                    },
                    "metadata": {}
                },
                {
                    "output_type": "display_data",
                    "data": {
                        "text/html": "Total execution time: 00:00:00.108"
                    },
                    "metadata": {}
                },
                {
                    "output_type": "execute_result",
                    "execution_count": 22,
                    "data": {
                        "application/vnd.dataresource+json": {
                            "schema": {
                                "fields": [
                                    {
                                        "name": "series_id"
                                    },
                                    {
                                        "name": "supersector_code"
                                    },
                                    {
                                        "name": "industry_code"
                                    },
                                    {
                                        "name": "data_type_code"
                                    },
                                    {
                                        "name": "seasonal"
                                    },
                                    {
                                        "name": "series_title"
                                    },
                                    {
                                        "name": "id"
                                    },
                                    {
                                        "name": "industry_code"
                                    },
                                    {
                                        "name": "naics_code"
                                    },
                                    {
                                        "name": "publishing_status"
                                    },
                                    {
                                        "name": "industry_name"
                                    },
                                    {
                                        "name": "display_level"
                                    },
                                    {
                                        "name": "selectable"
                                    },
                                    {
                                        "name": "sort_sequence"
                                    }
                                ]
                            },
                            "data": [
                                {
                                    "0": "CES0000000001",
                                    "1": "0",
                                    "2": "00000000",
                                    "3": "1",
                                    "4": "S",
                                    "5": "All employees",
                                    "6": "0",
                                    "7": "0",
                                    "8": "-",
                                    "9": "B",
                                    "10": "Total nonfarm",
                                    "11": "0",
                                    "12": "T",
                                    "13": "1"
                                },
                                {
                                    "0": "CES0000000010",
                                    "1": "0",
                                    "2": "00000000",
                                    "3": "10",
                                    "4": "S",
                                    "5": "Women employees",
                                    "6": "0",
                                    "7": "0",
                                    "8": "-",
                                    "9": "B",
                                    "10": "Total nonfarm",
                                    "11": "0",
                                    "12": "T",
                                    "13": "1"
                                },
                                {
                                    "0": "CES0000000025",
                                    "1": "0",
                                    "2": "00000000",
                                    "3": "25",
                                    "4": "S",
                                    "5": "All employees",
                                    "6": "0",
                                    "7": "0",
                                    "8": "-",
                                    "9": "B",
                                    "10": "Total nonfarm",
                                    "11": "0",
                                    "12": "T",
                                    "13": "1"
                                },
                                {
                                    "0": "CES0000000026",
                                    "1": "0",
                                    "2": "00000000",
                                    "3": "26",
                                    "4": "S",
                                    "5": "All employees",
                                    "6": "0",
                                    "7": "0",
                                    "8": "-",
                                    "9": "B",
                                    "10": "Total nonfarm",
                                    "11": "0",
                                    "12": "T",
                                    "13": "1"
                                },
                                {
                                    "0": "CES0500000001",
                                    "1": "5",
                                    "2": "05000000",
                                    "3": "1",
                                    "4": "S",
                                    "5": "All employees",
                                    "6": "1",
                                    "7": "5000000",
                                    "8": "-",
                                    "9": "A",
                                    "10": "Total private",
                                    "11": "1",
                                    "12": "T",
                                    "13": "2"
                                },
                                {
                                    "0": "CES0500000002",
                                    "1": "5",
                                    "2": "05000000",
                                    "3": "2",
                                    "4": "S",
                                    "5": "Average weekly hours of all employees",
                                    "6": "1",
                                    "7": "5000000",
                                    "8": "-",
                                    "9": "A",
                                    "10": "Total private",
                                    "11": "1",
                                    "12": "T",
                                    "13": "2"
                                },
                                {
                                    "0": "CES0500000003",
                                    "1": "5",
                                    "2": "05000000",
                                    "3": "3",
                                    "4": "S",
                                    "5": "Average hourly earnings of all employees",
                                    "6": "1",
                                    "7": "5000000",
                                    "8": "-",
                                    "9": "A",
                                    "10": "Total private",
                                    "11": "1",
                                    "12": "T",
                                    "13": "2"
                                },
                                {
                                    "0": "CES0500000006",
                                    "1": "5",
                                    "2": "05000000",
                                    "3": "6",
                                    "4": "S",
                                    "5": "Production and nonsupervisory employees",
                                    "6": "1",
                                    "7": "5000000",
                                    "8": "-",
                                    "9": "A",
                                    "10": "Total private",
                                    "11": "1",
                                    "12": "T",
                                    "13": "2"
                                },
                                {
                                    "0": "CES0500000007",
                                    "1": "5",
                                    "2": "05000000",
                                    "3": "7",
                                    "4": "S",
                                    "5": "Average weekly hours of production and nonsupervisory employees",
                                    "6": "1",
                                    "7": "5000000",
                                    "8": "-",
                                    "9": "A",
                                    "10": "Total private",
                                    "11": "1",
                                    "12": "T",
                                    "13": "2"
                                },
                                {
                                    "0": "CES0500000008",
                                    "1": "5",
                                    "2": "05000000",
                                    "3": "8",
                                    "4": "S",
                                    "5": "Average hourly earnings of production and nonsupervisory employees",
                                    "6": "1",
                                    "7": "5000000",
                                    "8": "-",
                                    "9": "A",
                                    "10": "Total private",
                                    "11": "1",
                                    "12": "T",
                                    "13": "2"
                                }
                            ]
                        },
                        "text/html": "<table><tr><th>series_id</th><th>supersector_code</th><th>industry_code</th><th>data_type_code</th><th>seasonal</th><th>series_title</th><th>id</th><th>industry_code</th><th>naics_code</th><th>publishing_status</th><th>industry_name</th><th>display_level</th><th>selectable</th><th>sort_sequence</th></tr><tr><td>CES0000000001</td><td>0</td><td>00000000</td><td>1</td><td>S</td><td>All employees</td><td>0</td><td>0</td><td>-</td><td>B</td><td>Total nonfarm</td><td>0</td><td>T</td><td>1</td></tr><tr><td>CES0000000010</td><td>0</td><td>00000000</td><td>10</td><td>S</td><td>Women employees</td><td>0</td><td>0</td><td>-</td><td>B</td><td>Total nonfarm</td><td>0</td><td>T</td><td>1</td></tr><tr><td>CES0000000025</td><td>0</td><td>00000000</td><td>25</td><td>S</td><td>All employees</td><td>0</td><td>0</td><td>-</td><td>B</td><td>Total nonfarm</td><td>0</td><td>T</td><td>1</td></tr><tr><td>CES0000000026</td><td>0</td><td>00000000</td><td>26</td><td>S</td><td>All employees</td><td>0</td><td>0</td><td>-</td><td>B</td><td>Total nonfarm</td><td>0</td><td>T</td><td>1</td></tr><tr><td>CES0500000001</td><td>5</td><td>05000000</td><td>1</td><td>S</td><td>All employees</td><td>1</td><td>5000000</td><td>-</td><td>A</td><td>Total private</td><td>1</td><td>T</td><td>2</td></tr><tr><td>CES0500000002</td><td>5</td><td>05000000</td><td>2</td><td>S</td><td>Average weekly hours of all employees</td><td>1</td><td>5000000</td><td>-</td><td>A</td><td>Total private</td><td>1</td><td>T</td><td>2</td></tr><tr><td>CES0500000003</td><td>5</td><td>05000000</td><td>3</td><td>S</td><td>Average hourly earnings of all employees</td><td>1</td><td>5000000</td><td>-</td><td>A</td><td>Total private</td><td>1</td><td>T</td><td>2</td></tr><tr><td>CES0500000006</td><td>5</td><td>05000000</td><td>6</td><td>S</td><td>Production and nonsupervisory employees</td><td>1</td><td>5000000</td><td>-</td><td>A</td><td>Total private</td><td>1</td><td>T</td><td>2</td></tr><tr><td>CES0500000007</td><td>5</td><td>05000000</td><td>7</td><td>S</td><td>Average weekly hours of production and nonsupervisory employees</td><td>1</td><td>5000000</td><td>-</td><td>A</td><td>Total private</td><td>1</td><td>T</td><td>2</td></tr><tr><td>CES0500000008</td><td>5</td><td>05000000</td><td>8</td><td>S</td><td>Average hourly earnings of production and nonsupervisory employees</td><td>1</td><td>5000000</td><td>-</td><td>A</td><td>Total private</td><td>1</td><td>T</td><td>2</td></tr></table>"
                    },
                    "metadata": {}
                }
            ],
            "execution_count": 22
        },
        {
            "cell_type": "markdown",
            "source": [
                "3. <span style=\"background-color: rgb(255, 255, 255); font-size: 10pt; white-space: pre-wrap; color: rgb(102, 102, 102); font-family: Arvo, serif;\">Join series and industry on industry_code</span>"
            ],
            "metadata": {
                "azdata_cell_guid": "78ac8ba4-2a6a-426f-af30-6b56d9d09054"
            },
            "attachments": {}
        },
        {
            "cell_type": "code",
            "source": [
                "SELECT top 10 *\n",
                "FROM LaborStatisticsDB.dbo.series as s\n",
                "JOIN LaborStatisticsDB.dbo.industry as i\n",
                "ON s.industry_code = i.industry_code"
            ],
            "metadata": {
                "azdata_cell_guid": "ac022766-e280-4d95-8362-1f2b18773662",
                "language": "sql"
            },
            "outputs": [],
            "execution_count": null
        },
        {
            "cell_type": "markdown",
            "source": [
                "## <span style=\"font-size: 12pt; font-family: Montserrat, sans-serif; color: rgb(53, 74, 95); background-color: rgb(255, 255, 255); font-weight: 700; font-variant-numeric: normal; font-variant-east-asian: normal; vertical-align: baseline; white-space: pre-wrap;\">Aggregate Your Friends and Code some SQL</span>\n",
                "\n",
                "<span style=\"font-size: 10pt; font-family: Arvo, serif; color: rgb(102, 102, 102); background-color: rgb(255, 255, 255); font-variant-numeric: normal; font-variant-east-asian: normal; vertical-align: baseline; white-space: pre-wrap;\">Put together the following:</span>\n",
                "\n",
                "1. <span style=\"background-color: rgb(255, 255, 255); font-size: 10pt; white-space: pre-wrap; color: rgb(102, 102, 102); font-family: Arvo, serif;\">How many employees were reported in 2016 in all industries? Round to the nearest whole number.&nbsp; No chopping people into little bits, please.</span>"
            ],
            "metadata": {
                "azdata_cell_guid": "f4290cc1-f824-4586-8850-59d926bf4460"
            },
            "attachments": {}
        },
        {
            "cell_type": "code",
            "source": [
                "SELECT ROUND(count(p.value), 0) AS total_employees\n",
                "FROM LaborStatisticsDB.dbo.annual_2016 AS p\n",
                "INNER JOIN LaborStatisticsDB.dbo.series AS s\n",
                "ON p.series_id = s.series_id\n",
                "WHERE s.data_type_code = '1' AND p.year = '2016'\n",
                ""
            ],
            "metadata": {
                "azdata_cell_guid": "25099068-a629-4eb5-afca-ed3748c40605",
                "language": "sql",
                "tags": []
            },
            "outputs": [
                {
                    "output_type": "display_data",
                    "data": {
                        "text/html": "(1 row affected)"
                    },
                    "metadata": {}
                },
                {
                    "output_type": "display_data",
                    "data": {
                        "text/html": "Total execution time: 00:00:00.118"
                    },
                    "metadata": {}
                },
                {
                    "output_type": "execute_result",
                    "metadata": {},
                    "execution_count": 25,
                    "data": {
                        "application/vnd.dataresource+json": {
                            "schema": {
                                "fields": [
                                    {
                                        "name": "total_employees"
                                    }
                                ]
                            },
                            "data": [
                                {
                                    "0": "1830"
                                }
                            ]
                        },
                        "text/html": [
                            "<table>",
                            "<tr><th>total_employees</th></tr>",
                            "<tr><td>1830</td></tr>",
                            "</table>"
                        ]
                    }
                }
            ],
            "execution_count": 25
        },
        {
            "cell_type": "markdown",
            "source": [
                "2. <span style=\"background-color: rgb(255, 255, 255); font-size: 10pt; white-space: pre-wrap; color: rgb(102, 102, 102); font-family: Arvo, serif;\">How many women employees were reported in 2016 in all industries? Round to the nearest whole number.&nbsp;</span>"
            ],
            "metadata": {
                "azdata_cell_guid": "6358fab4-b933-4646-bef1-4be66dcd4317"
            },
            "attachments": {}
        },
        {
            "cell_type": "code",
            "source": [
                "SELECT ROUND(count(p.value), 0) AS women_empl\n",
                "FROM LaborStatisticsDB.dbo.annual_2016 AS p\n",
                "INNER JOIN LaborStatisticsDB.dbo.series AS s\n",
                "ON p.series_id = s.series_id\n",
                "WHERE s.data_type_code = '10' AND p.year = '2016'"
            ],
            "metadata": {
                "azdata_cell_guid": "7bb0bfb7-b9e3-4672-b354-7ca705bb0c3b",
                "language": "sql"
            },
            "outputs": [
                {
                    "output_type": "display_data",
                    "data": {
                        "text/html": "(1 row affected)"
                    },
                    "metadata": {}
                },
                {
                    "output_type": "display_data",
                    "data": {
                        "text/html": "Total execution time: 00:00:00.112"
                    },
                    "metadata": {}
                },
                {
                    "output_type": "execute_result",
                    "metadata": {},
                    "execution_count": 21,
                    "data": {
                        "application/vnd.dataresource+json": {
                            "schema": {
                                "fields": [
                                    {
                                        "name": "women_empl"
                                    }
                                ]
                            },
                            "data": [
                                {
                                    "0": "1372"
                                }
                            ]
                        },
                        "text/html": [
                            "<table>",
                            "<tr><th>women_empl</th></tr>",
                            "<tr><td>1372</td></tr>",
                            "</table>"
                        ]
                    }
                }
            ],
            "execution_count": 21
        },
        {
            "cell_type": "markdown",
            "source": [
                "3. <span style=\"background-color: rgb(255, 255, 255); font-size: 10pt; white-space: pre-wrap; color: rgb(102, 102, 102); font-family: Arvo, serif;\">How many production/nonsupervisory employees were reported in 2016? Round to the nearest whole number.&nbsp;</span>"
            ],
            "metadata": {
                "azdata_cell_guid": "246ea683-2075-4337-878d-fbfdd49b2dd7"
            },
            "attachments": {}
        },
        {
            "cell_type": "code",
            "source": [
                "SELECT ROUND(count(p.value), 0) AS  production_nonsupervisory_emp\n",
                "FROM LaborStatisticsDB.dbo.annual_2016 AS p\n",
                "INNER JOIN LaborStatisticsDB.dbo.series AS s\n",
                "ON p.series_id = s.series_id\n",
                "WHERE s.data_type_code = '6' AND p.year = '2016'"
            ],
            "metadata": {
                "azdata_cell_guid": "110f2591-069b-4bbe-87c7-2bcf76c3d36f",
                "language": "sql"
            },
            "outputs": [
                {
                    "output_type": "display_data",
                    "data": {
                        "text/html": "(1 row affected)"
                    },
                    "metadata": {}
                },
                {
                    "output_type": "display_data",
                    "data": {
                        "text/html": "Total execution time: 00:00:00.112"
                    },
                    "metadata": {}
                },
                {
                    "output_type": "execute_result",
                    "metadata": {},
                    "execution_count": 22,
                    "data": {
                        "application/vnd.dataresource+json": {
                            "schema": {
                                "fields": [
                                    {
                                        "name": "production_nonsupervisory_employees"
                                    }
                                ]
                            },
                            "data": [
                                {
                                    "0": "1102"
                                }
                            ]
                        },
                        "text/html": [
                            "<table>",
                            "<tr><th>production_nonsupervisory_employees</th></tr>",
                            "<tr><td>1102</td></tr>",
                            "</table>"
                        ]
                    }
                }
            ],
            "execution_count": 22
        },
        {
            "cell_type": "markdown",
            "source": [
                "4. <span style=\"background-color: rgb(255, 255, 255); font-size: 10pt; white-space: pre-wrap; color: rgb(102, 102, 102); font-family: Arvo, serif;\">In January 2017, what is the average weekly hours worked by production and nonsupervisory employees across all industries?</span>"
            ],
            "metadata": {
                "azdata_cell_guid": "9caa7f57-e39d-4b7a-b705-25f8fe29d60b"
            },
            "attachments": {}
        },
        {
            "cell_type": "code",
            "source": [
                "SELECT ROUND(AVG(p.value), 0) AS average_weekly_hours\n",
                "FROM LaborStatisticsDB.dbo.january_2017 AS p\n",
                "INNER JOIN LaborStatisticsDB.dbo.series AS s\n",
                "ON p.series_id = s.series_id\n",
                "WHERE s.data_type_code = '7'\n",
                ""
            ],
            "metadata": {
                "azdata_cell_guid": "9f07fa8a-4217-439a-a9cd-831240d4bc9e",
                "language": "sql"
            },
            "outputs": [
                {
                    "output_type": "display_data",
                    "data": {
                        "text/html": "(1 row affected)"
                    },
                    "metadata": {}
                },
                {
                    "output_type": "display_data",
                    "data": {
                        "text/html": "(10 rows affected)"
                    },
                    "metadata": {}
                },
                {
                    "output_type": "display_data",
                    "data": {
                        "text/html": "Total execution time: 00:00:00.174"
                    },
                    "metadata": {}
                },
                {
                    "output_type": "execute_result",
                    "metadata": {},
                    "execution_count": 30,
                    "data": {
                        "application/vnd.dataresource+json": {
                            "schema": {
                                "fields": [
                                    {
                                        "name": "average_weekly_hours"
                                    }
                                ]
                            },
                            "data": [
                                {
                                    "0": "36"
                                }
                            ]
                        },
                        "text/html": [
                            "<table>",
                            "<tr><th>average_weekly_hours</th></tr>",
                            "<tr><td>36</td></tr>",
                            "</table>"
                        ]
                    }
                },
                {
                    "output_type": "execute_result",
                    "metadata": {},
                    "execution_count": 30,
                    "data": {
                        "application/vnd.dataresource+json": {
                            "schema": {
                                "fields": [
                                    {
                                        "name": "id"
                                    },
                                    {
                                        "name": "series_id"
                                    },
                                    {
                                        "name": "year"
                                    },
                                    {
                                        "name": "period"
                                    },
                                    {
                                        "name": "value"
                                    },
                                    {
                                        "name": "footnote_codes"
                                    },
                                    {
                                        "name": "original_file"
                                    },
                                    {
                                        "name": "series_id"
                                    },
                                    {
                                        "name": "supersector_code"
                                    },
                                    {
                                        "name": "industry_code"
                                    },
                                    {
                                        "name": "data_type_code"
                                    },
                                    {
                                        "name": "seasonal"
                                    },
                                    {
                                        "name": "series_title"
                                    }
                                ]
                            },
                            "data": [
                                {
                                    "0": "739",
                                    "1": "CES5000000006",
                                    "2": "2017",
                                    "3": "M01",
                                    "4": "2220",
                                    "5": "NULL",
                                    "6": "ce.data.50a.Information.Employment.csv",
                                    "7": "CES5000000006",
                                    "8": "50",
                                    "9": "50000000",
                                    "10": "6",
                                    "11": "S",
                                    "12": "Production and nonsupervisory employees"
                                },
                                {
                                    "0": "742",
                                    "1": "CES5051100006",
                                    "2": "2017",
                                    "3": "M01",
                                    "4": "578.8",
                                    "5": "NULL",
                                    "6": "ce.data.50a.Information.Employment.csv",
                                    "7": "CES5051100006",
                                    "8": "50",
                                    "9": "50511000",
                                    "10": "6",
                                    "11": "S",
                                    "12": "Production and nonsupervisory employees"
                                },
                                {
                                    "0": "745",
                                    "1": "CES5051110006",
                                    "2": "2017",
                                    "3": "M01",
                                    "4": "293.2",
                                    "5": "NULL",
                                    "6": "ce.data.50a.Information.Employment.csv",
                                    "7": "CES5051110006",
                                    "8": "50",
                                    "9": "50511100",
                                    "10": "6",
                                    "11": "S",
                                    "12": "Production and nonsupervisory employees"
                                },
                                {
                                    "0": "748",
                                    "1": "CES5051111006",
                                    "2": "2017",
                                    "3": "M01",
                                    "4": "143.1",
                                    "5": "NULL",
                                    "6": "ce.data.50a.Information.Employment.csv",
                                    "7": "CES5051111006",
                                    "8": "50",
                                    "9": "50511110",
                                    "10": "6",
                                    "11": "S",
                                    "12": "Production and nonsupervisory employees"
                                },
                                {
                                    "0": "751",
                                    "1": "CES5051112006",
                                    "2": "2017",
                                    "3": "M01",
                                    "4": "74.2",
                                    "5": "NULL",
                                    "6": "ce.data.50a.Information.Employment.csv",
                                    "7": "CES5051112006",
                                    "8": "50",
                                    "9": "50511120",
                                    "10": "6",
                                    "11": "S",
                                    "12": "Production and nonsupervisory employees"
                                },
                                {
                                    "0": "757",
                                    "1": "CES5051120006",
                                    "2": "2017",
                                    "3": "M01",
                                    "4": "285.5",
                                    "5": "NULL",
                                    "6": "ce.data.50a.Information.Employment.csv",
                                    "7": "CES5051120006",
                                    "8": "50",
                                    "9": "50511200",
                                    "10": "6",
                                    "11": "S",
                                    "12": "Production and nonsupervisory employees"
                                },
                                {
                                    "0": "760",
                                    "1": "CES5051200006",
                                    "2": "2017",
                                    "3": "M01",
                                    "4": "319.4",
                                    "5": "NULL",
                                    "6": "ce.data.50a.Information.Employment.csv",
                                    "7": "CES5051200006",
                                    "8": "50",
                                    "9": "50512000",
                                    "10": "6",
                                    "11": "S",
                                    "12": "Production and nonsupervisory employees"
                                },
                                {
                                    "0": "765",
                                    "1": "CES5051500006",
                                    "2": "2017",
                                    "3": "M01",
                                    "4": "213.2",
                                    "5": "NULL",
                                    "6": "ce.data.50a.Information.Employment.csv",
                                    "7": "CES5051500006",
                                    "8": "50",
                                    "9": "50515000",
                                    "10": "6",
                                    "11": "S",
                                    "12": "Production and nonsupervisory employees"
                                },
                                {
                                    "0": "769",
                                    "1": "CES5051511006",
                                    "2": "2017",
                                    "3": "M01",
                                    "4": "69.6",
                                    "5": "NULL",
                                    "6": "ce.data.50a.Information.Employment.csv",
                                    "7": "CES5051511006",
                                    "8": "50",
                                    "9": "50515110",
                                    "10": "6",
                                    "11": "S",
                                    "12": "Production and nonsupervisory employees"
                                },
                                {
                                    "0": "774",
                                    "1": "CES5051700006",
                                    "2": "2017",
                                    "3": "M01",
                                    "4": "651",
                                    "5": "NULL",
                                    "6": "ce.data.50a.Information.Employment.csv",
                                    "7": "CES5051700006",
                                    "8": "50",
                                    "9": "50517000",
                                    "10": "6",
                                    "11": "S",
                                    "12": "Production and nonsupervisory employees"
                                }
                            ]
                        },
                        "text/html": [
                            "<table>",
                            "<tr><th>id</th><th>series_id</th><th>year</th><th>period</th><th>value</th><th>footnote_codes</th><th>original_file</th><th>series_id</th><th>supersector_code</th><th>industry_code</th><th>data_type_code</th><th>seasonal</th><th>series_title</th></tr>",
                            "<tr><td>739</td><td>CES5000000006</td><td>2017</td><td>M01</td><td>2220</td><td>NULL</td><td>ce.data.50a.Information.Employment.csv</td><td>CES5000000006</td><td>50</td><td>50000000</td><td>6</td><td>S</td><td>Production and nonsupervisory employees</td></tr>",
                            "<tr><td>742</td><td>CES5051100006</td><td>2017</td><td>M01</td><td>578.8</td><td>NULL</td><td>ce.data.50a.Information.Employment.csv</td><td>CES5051100006</td><td>50</td><td>50511000</td><td>6</td><td>S</td><td>Production and nonsupervisory employees</td></tr>",
                            "<tr><td>745</td><td>CES5051110006</td><td>2017</td><td>M01</td><td>293.2</td><td>NULL</td><td>ce.data.50a.Information.Employment.csv</td><td>CES5051110006</td><td>50</td><td>50511100</td><td>6</td><td>S</td><td>Production and nonsupervisory employees</td></tr>",
                            "<tr><td>748</td><td>CES5051111006</td><td>2017</td><td>M01</td><td>143.1</td><td>NULL</td><td>ce.data.50a.Information.Employment.csv</td><td>CES5051111006</td><td>50</td><td>50511110</td><td>6</td><td>S</td><td>Production and nonsupervisory employees</td></tr>",
                            "<tr><td>751</td><td>CES5051112006</td><td>2017</td><td>M01</td><td>74.2</td><td>NULL</td><td>ce.data.50a.Information.Employment.csv</td><td>CES5051112006</td><td>50</td><td>50511120</td><td>6</td><td>S</td><td>Production and nonsupervisory employees</td></tr>",
                            "<tr><td>757</td><td>CES5051120006</td><td>2017</td><td>M01</td><td>285.5</td><td>NULL</td><td>ce.data.50a.Information.Employment.csv</td><td>CES5051120006</td><td>50</td><td>50511200</td><td>6</td><td>S</td><td>Production and nonsupervisory employees</td></tr>",
                            "<tr><td>760</td><td>CES5051200006</td><td>2017</td><td>M01</td><td>319.4</td><td>NULL</td><td>ce.data.50a.Information.Employment.csv</td><td>CES5051200006</td><td>50</td><td>50512000</td><td>6</td><td>S</td><td>Production and nonsupervisory employees</td></tr>",
                            "<tr><td>765</td><td>CES5051500006</td><td>2017</td><td>M01</td><td>213.2</td><td>NULL</td><td>ce.data.50a.Information.Employment.csv</td><td>CES5051500006</td><td>50</td><td>50515000</td><td>6</td><td>S</td><td>Production and nonsupervisory employees</td></tr>",
                            "<tr><td>769</td><td>CES5051511006</td><td>2017</td><td>M01</td><td>69.6</td><td>NULL</td><td>ce.data.50a.Information.Employment.csv</td><td>CES5051511006</td><td>50</td><td>50515110</td><td>6</td><td>S</td><td>Production and nonsupervisory employees</td></tr>",
                            "<tr><td>774</td><td>CES5051700006</td><td>2017</td><td>M01</td><td>651</td><td>NULL</td><td>ce.data.50a.Information.Employment.csv</td><td>CES5051700006</td><td>50</td><td>50517000</td><td>6</td><td>S</td><td>Production and nonsupervisory employees</td></tr>",
                            "</table>"
                        ]
                    }
                }
            ],
            "execution_count": 30
        },
        {
            "cell_type": "markdown",
            "source": [
                "5. <span style=\"background-color: rgb(255, 255, 255); font-size: 10pt; white-space: pre-wrap; color: rgb(102, 102, 102); font-family: Arvo, serif;\">What is the total weekly payroll for production and nonsupervisory employees across all industries in January 2017? Round to the nearest penny, please.</span>"
            ],
            "metadata": {
                "azdata_cell_guid": "9c48ff2e-a6eb-4f02-8df2-988e219fbc00"
            },
            "attachments": {}
        },
        {
            "cell_type": "code",
            "source": [
                "SELECT ROUND(SUM(p.value), 2) AS total_weekly_payroll\n",
                "FROM LaborStatisticsDB.dbo.january_2017 AS p\n",
                "INNER JOIN LaborStatisticsDB.dbo.series AS s\n",
                "ON p.series_id = s.series_id\n",
                "WHERE s.data_type_code = '82' AND  p.year = '2017' AND p.period = 'M01'\n",
                "   "
            ],
            "metadata": {
                "azdata_cell_guid": "c565641b-f1fa-4dbb-9320-24adfda97ca5",
                "language": "sql"
            },
            "outputs": [
                {
                    "output_type": "display_data",
                    "data": {
                        "text/html": "(1 row affected)"
                    },
                    "metadata": {}
                },
                {
                    "output_type": "display_data",
                    "data": {
                        "text/html": "(32 rows affected)"
                    },
                    "metadata": {}
                },
                {
                    "output_type": "display_data",
                    "data": {
                        "text/html": "Total execution time: 00:00:00.902"
                    },
                    "metadata": {}
                },
                {
                    "output_type": "execute_result",
                    "metadata": {},
                    "execution_count": 35,
                    "data": {
                        "application/vnd.dataresource+json": {
                            "schema": {
                                "fields": [
                                    {
                                        "name": "total_weekly_payroll"
                                    }
                                ]
                            },
                            "data": [
                                {
                                    "0": "1838753220"
                                }
                            ]
                        },
                        "text/html": [
                            "<table>",
                            "<tr><th>total_weekly_payroll</th></tr>",
                            "<tr><td>1838753220</td></tr>",
                            "</table>"
                        ]
                    }
                },
                {
                    "output_type": "execute_result",
                    "metadata": {},
                    "execution_count": 35,
                    "data": {
                        "application/vnd.dataresource+json": {
                            "schema": {
                                "fields": [
                                    {
                                        "name": "series_title"
                                    },
                                    {
                                        "name": "data_type_code"
                                    }
                                ]
                            },
                            "data": [
                                {
                                    "0": "Average hourly earnings of all employees",
                                    "1": "13"
                                },
                                {
                                    "0": "All employees",
                                    "1": "1"
                                },
                                {
                                    "0": "Diffusion indexes",
                                    "1": "22"
                                },
                                {
                                    "0": "Average weekly overtime hours of production and nonsupervisory employees",
                                    "1": "9"
                                },
                                {
                                    "0": "Indexes of aggregate weekly payrolls of all employees",
                                    "1": "17"
                                },
                                {
                                    "0": "Average hourly earnings of production and nonsupervisory employees",
                                    "1": "33"
                                },
                                {
                                    "0": "Average weekly hours of all employees",
                                    "1": "2"
                                },
                                {
                                    "0": "Average weekly earnings of all employees",
                                    "1": "11"
                                },
                                {
                                    "0": "Indexes of aggregate weekly hours of production and nonsupervisory employees",
                                    "1": "34"
                                },
                                {
                                    "0": "Average weekly earnings of all employees",
                                    "1": "12"
                                },
                                {
                                    "0": "Aggregate weekly hours of production and nonsupervisory employees",
                                    "1": "81"
                                },
                                {
                                    "0": "Production and nonsupervisory employees",
                                    "1": "6"
                                },
                                {
                                    "0": "Average hourly earnings of production and nonsupervisory employees",
                                    "1": "8"
                                },
                                {
                                    "0": "Diffusion indexes",
                                    "1": "23"
                                },
                                {
                                    "0": "Aggregate weekly payrolls of production and nonsupervisory employees",
                                    "1": "82"
                                },
                                {
                                    "0": "Women employees",
                                    "1": "10"
                                },
                                {
                                    "0": "Average weekly hours of production and nonsupervisory employees",
                                    "1": "7"
                                },
                                {
                                    "0": "Aggregate weekly hours of all employees",
                                    "1": "56"
                                },
                                {
                                    "0": "Average hourly earnings of production and nonsupervisory employees",
                                    "1": "32"
                                },
                                {
                                    "0": "Average hourly earnings of all employees",
                                    "1": "3"
                                },
                                {
                                    "0": "Indexes of aggregate weekly payrolls of production and nonsupervisory employees",
                                    "1": "35"
                                },
                                {
                                    "0": "Average weekly earnings of production and nonsupervisory employees",
                                    "1": "30"
                                },
                                {
                                    "0": "Aggregate weekly payrolls of all employees",
                                    "1": "57"
                                },
                                {
                                    "0": "Average weekly overtime hours of all employees",
                                    "1": "4"
                                },
                                {
                                    "0": "Average hourly earnings of all employees",
                                    "1": "15"
                                },
                                {
                                    "0": "Diffusion indexes",
                                    "1": "21"
                                },
                                {
                                    "0": "All employees",
                                    "1": "26"
                                },
                                {
                                    "0": "Diffusion indexes",
                                    "1": "24"
                                },
                                {
                                    "0": "Indexes of aggregate weekly hours of all employees",
                                    "1": "16"
                                },
                                {
                                    "0": "Average weekly earnings of production and nonsupervisory employees",
                                    "1": "31"
                                },
                                {
                                    "0": "Aggregate weekly overtime hours of all employees",
                                    "1": "58"
                                },
                                {
                                    "0": "Aggregate weekly overtime hours of production and nonsupervisory employees",
                                    "1": "83"
                                }
                            ]
                        },
                        "text/html": [
                            "<table>",
                            "<tr><th>series_title</th><th>data_type_code</th></tr>",
                            "<tr><td>Average hourly earnings of all employees</td><td>13</td></tr>",
                            "<tr><td>All employees</td><td>1</td></tr>",
                            "<tr><td>Diffusion indexes</td><td>22</td></tr>",
                            "<tr><td>Average weekly overtime hours of production and nonsupervisory employees</td><td>9</td></tr>",
                            "<tr><td>Indexes of aggregate weekly payrolls of all employees</td><td>17</td></tr>",
                            "<tr><td>Average hourly earnings of production and nonsupervisory employees</td><td>33</td></tr>",
                            "<tr><td>Average weekly hours of all employees</td><td>2</td></tr>",
                            "<tr><td>Average weekly earnings of all employees</td><td>11</td></tr>",
                            "<tr><td>Indexes of aggregate weekly hours of production and nonsupervisory employees</td><td>34</td></tr>",
                            "<tr><td>Average weekly earnings of all employees</td><td>12</td></tr>",
                            "<tr><td>Aggregate weekly hours of production and nonsupervisory employees</td><td>81</td></tr>",
                            "<tr><td>Production and nonsupervisory employees</td><td>6</td></tr>",
                            "<tr><td>Average hourly earnings of production and nonsupervisory employees</td><td>8</td></tr>",
                            "<tr><td>Diffusion indexes</td><td>23</td></tr>",
                            "<tr><td>Aggregate weekly payrolls of production and nonsupervisory employees</td><td>82</td></tr>",
                            "<tr><td>Women employees</td><td>10</td></tr>",
                            "<tr><td>Average weekly hours of production and nonsupervisory employees</td><td>7</td></tr>",
                            "<tr><td>Aggregate weekly hours of all employees</td><td>56</td></tr>",
                            "<tr><td>Average hourly earnings of production and nonsupervisory employees</td><td>32</td></tr>",
                            "<tr><td>Average hourly earnings of all employees</td><td>3</td></tr>",
                            "<tr><td>Indexes of aggregate weekly payrolls of production and nonsupervisory employees</td><td>35</td></tr>",
                            "<tr><td>Average weekly earnings of production and nonsupervisory employees</td><td>30</td></tr>",
                            "<tr><td>Aggregate weekly payrolls of all employees</td><td>57</td></tr>",
                            "<tr><td>Average weekly overtime hours of all employees</td><td>4</td></tr>",
                            "<tr><td>Average hourly earnings of all employees</td><td>15</td></tr>",
                            "<tr><td>Diffusion indexes</td><td>21</td></tr>",
                            "<tr><td>All employees</td><td>26</td></tr>",
                            "<tr><td>Diffusion indexes</td><td>24</td></tr>",
                            "<tr><td>Indexes of aggregate weekly hours of all employees</td><td>16</td></tr>",
                            "<tr><td>Average weekly earnings of production and nonsupervisory employees</td><td>31</td></tr>",
                            "<tr><td>Aggregate weekly overtime hours of all employees</td><td>58</td></tr>",
                            "<tr><td>Aggregate weekly overtime hours of production and nonsupervisory employees</td><td>83</td></tr>",
                            "</table>"
                        ]
                    }
                }
            ],
            "execution_count": 35
        },
        {
            "cell_type": "markdown",
            "source": [
                "6. <span style=\"background-color: rgb(255, 255, 255); font-size: 10pt; white-space: pre-wrap; color: rgb(102, 102, 102); font-family: Arvo, serif;\">In January 2017, which industry was the average weekly hours worked by production and nonsupervisory employees the highest? Which industry was the lowest?</span>"
            ],
            "metadata": {
                "azdata_cell_guid": "862fd406-4fff-49bb-9d2b-232275a06405"
            },
            "attachments": {}
        },
        {
            "cell_type": "code",
            "source": [
                "--high\n",
                "SELECT top 10 i.industry_name, AVG(j.value) AS avg_weekly_hours\n",
                "FROM LaborStatisticsDB.dbo.january_2017 AS j\n",
                "JOIN LaborStatisticsDB.dbo.series AS s \n",
                "ON j.series_id = s.series_id\n",
                "JOIN LaborStatisticsDB.dbo.industry AS i\n",
                "ON s.industry_code = i.industry_code\n",
                "WHERE s.data_type_code = '7'\n",
                "AND j.year = '2017'\n",
                "GROUP BY i.industry_name\n",
                "ORDER BY avg_weekly_hours DESC\n",
                "\n",
                "--low\n",
                "SELECT top 10 i.industry_name, AVG(j.value) AS avg_weekly_hours\n",
                "FROM LaborStatisticsDB.dbo.january_2017 AS j\n",
                "JOIN LaborStatisticsDB.dbo.series AS s \n",
                "ON j.series_id = s.series_id\n",
                "JOIN LaborStatisticsDB.dbo.industry AS i\n",
                "ON s.industry_code = i.industry_code\n",
                "WHERE s.data_type_code = '7' AND j.year = '2017'\n",
                "GROUP BY i.industry_name\n",
                "ORDER BY avg_weekly_hours ASC"
            ],
            "metadata": {
                "azdata_cell_guid": "01e11050-5f2f-4d22-92e0-2b3024b80a5f",
                "language": "sql"
            },
            "outputs": [
                {
                    "output_type": "display_data",
                    "data": {
                        "text/html": "(10 rows affected)"
                    },
                    "metadata": {}
                },
                {
                    "output_type": "display_data",
                    "data": {
                        "text/html": "(10 rows affected)"
                    },
                    "metadata": {}
                },
                {
                    "output_type": "display_data",
                    "data": {
                        "text/html": "Total execution time: 00:00:00.308"
                    },
                    "metadata": {}
                },
                {
                    "output_type": "execute_result",
                    "metadata": {},
                    "execution_count": 38,
                    "data": {
                        "application/vnd.dataresource+json": {
                            "schema": {
                                "fields": [
                                    {
                                        "name": "industry_name"
                                    },
                                    {
                                        "name": "avg_weekly_hours"
                                    }
                                ]
                            },
                            "data": [
                                {
                                    "0": "Motor vehicle power train components",
                                    "1": "49.6"
                                },
                                {
                                    "0": "Support activities for mining",
                                    "1": "47.2"
                                },
                                {
                                    "0": "Support activities for oil and gas operations",
                                    "1": "46.7"
                                },
                                {
                                    "0": "Motor vehicle metal stamping",
                                    "1": "46.699999999999996"
                                },
                                {
                                    "0": "Coal mining",
                                    "1": "46.6"
                                },
                                {
                                    "0": "Oil and gas pipeline construction",
                                    "1": "46.1"
                                },
                                {
                                    "0": "Mining",
                                    "1": "46.025"
                                },
                                {
                                    "0": "Boilers",
                                    "1": "45.7"
                                },
                                {
                                    "0": "Crushed and broken limestone mining",
                                    "1": "45.7"
                                },
                                {
                                    "0": "Mining and logging",
                                    "1": "45.65"
                                }
                            ]
                        },
                        "text/html": [
                            "<table>",
                            "<tr><th>industry_name</th><th>avg_weekly_hours</th></tr>",
                            "<tr><td>Motor vehicle power train components</td><td>49.6</td></tr>",
                            "<tr><td>Support activities for mining</td><td>47.2</td></tr>",
                            "<tr><td>Support activities for oil and gas operations</td><td>46.7</td></tr>",
                            "<tr><td>Motor vehicle metal stamping</td><td>46.699999999999996</td></tr>",
                            "<tr><td>Coal mining</td><td>46.6</td></tr>",
                            "<tr><td>Oil and gas pipeline construction</td><td>46.1</td></tr>",
                            "<tr><td>Mining</td><td>46.025</td></tr>",
                            "<tr><td>Boilers</td><td>45.7</td></tr>",
                            "<tr><td>Crushed and broken limestone mining</td><td>45.7</td></tr>",
                            "<tr><td>Mining and logging</td><td>45.65</td></tr>",
                            "</table>"
                        ]
                    }
                },
                {
                    "output_type": "execute_result",
                    "metadata": {},
                    "execution_count": 38,
                    "data": {
                        "application/vnd.dataresource+json": {
                            "schema": {
                                "fields": [
                                    {
                                        "name": "industry_name"
                                    },
                                    {
                                        "name": "avg_weekly_hours"
                                    }
                                ]
                            },
                            "data": [
                                {
                                    "0": "Fitness and recreational sports centers",
                                    "1": "16.85"
                                },
                                {
                                    "0": "Civic and social organizations",
                                    "1": "18.3"
                                },
                                {
                                    "0": "Family clothing stores",
                                    "1": "18.8"
                                },
                                {
                                    "0": "Women's clothing stores",
                                    "1": "18.8"
                                },
                                {
                                    "0": "Skiing facilities",
                                    "1": "19.3"
                                },
                                {
                                    "0": "Clothing stores",
                                    "1": "19.6"
                                },
                                {
                                    "0": "Bowling centers",
                                    "1": "20.2"
                                },
                                {
                                    "0": "Clothing accessories stores",
                                    "1": "21.2"
                                },
                                {
                                    "0": "Clothing and clothing accessories stores",
                                    "1": "21.3"
                                },
                                {
                                    "0": "Drinking places",
                                    "1": "21.35"
                                }
                            ]
                        },
                        "text/html": [
                            "<table>",
                            "<tr><th>industry_name</th><th>avg_weekly_hours</th></tr>",
                            "<tr><td>Fitness and recreational sports centers</td><td>16.85</td></tr>",
                            "<tr><td>Civic and social organizations</td><td>18.3</td></tr>",
                            "<tr><td>Family clothing stores</td><td>18.8</td></tr>",
                            "<tr><td>Women's clothing stores</td><td>18.8</td></tr>",
                            "<tr><td>Skiing facilities</td><td>19.3</td></tr>",
                            "<tr><td>Clothing stores</td><td>19.6</td></tr>",
                            "<tr><td>Bowling centers</td><td>20.2</td></tr>",
                            "<tr><td>Clothing accessories stores</td><td>21.2</td></tr>",
                            "<tr><td>Clothing and clothing accessories stores</td><td>21.3</td></tr>",
                            "<tr><td>Drinking places</td><td>21.35</td></tr>",
                            "</table>"
                        ]
                    }
                }
            ],
            "execution_count": 38
        },
        {
            "cell_type": "markdown",
            "source": [
                "7. <span style=\"background-color: rgb(255, 255, 255); font-size: 10pt; white-space: pre-wrap; color: rgb(102, 102, 102); font-family: Arvo, serif;\">In January 2021, which industry was the total weekly payroll for production and nonsupervisory employees the highest? Which industry was the lowest?</span>"
            ],
            "metadata": {
                "azdata_cell_guid": "a53f4113-60c6-46d1-b9a3-34610c61d4f9"
            },
            "attachments": {}
        },
        {
            "cell_type": "code",
            "source": [
                "SELECT top 10 i.industry_name, AVG(j.value) AS avg_weekly_payroll\n",
                "FROM LaborStatisticsDB.dbo.january_2017 AS j\n",
                "JOIN LaborStatisticsDB.dbo.series AS s \n",
                "ON j.series_id = s.series_id\n",
                "JOIN LaborStatisticsDB.dbo.industry AS i\n",
                "ON s.industry_code = i.industry_code\n",
                "WHERE s.data_type_code = '82' AND j.year = '2017'\n",
                "GROUP BY i.industry_name\n",
                "ORDER BY avg_weekly_payroll DESC\n",
                "\n",
                "\n",
                "SELECT top 10 i.industry_name, AVG(j.value) AS avg_weekly_payroll\n",
                "FROM LaborStatisticsDB.dbo.january_2017 AS j\n",
                "JOIN LaborStatisticsDB.dbo.series AS s \n",
                "ON j.series_id = s.series_id\n",
                "JOIN LaborStatisticsDB.dbo.industry AS i\n",
                "ON s.industry_code = i.industry_code\n",
                "WHERE s.data_type_code = '82' AND j.year = '2017'\n",
                "GROUP BY i.industry_name\n",
                "ORDER BY avg_weekly_payroll ASC\n",
                "\n",
                "     "
            ],
            "metadata": {
                "azdata_cell_guid": "583695e6-7438-4e03-8970-1fe0c677a793",
                "language": "sql"
            },
            "outputs": [
                {
                    "output_type": "display_data",
                    "data": {
                        "text/html": "(10 rows affected)"
                    },
                    "metadata": {}
                },
                {
                    "output_type": "display_data",
                    "data": {
                        "text/html": "(10 rows affected)"
                    },
                    "metadata": {}
                },
                {
                    "output_type": "display_data",
                    "data": {
                        "text/html": "Total execution time: 00:00:00.183"
                    },
                    "metadata": {}
                },
                {
                    "output_type": "execute_result",
                    "metadata": {},
                    "execution_count": 47,
                    "data": {
                        "application/vnd.dataresource+json": {
                            "schema": {
                                "fields": [
                                    {
                                        "name": "industry_name"
                                    },
                                    {
                                        "name": "avg_weekly_payroll"
                                    }
                                ]
                            },
                            "data": [
                                {
                                    "0": "Total private",
                                    "1": "73986236.5"
                                },
                                {
                                    "0": "Private service-providing",
                                    "1": "60861246.5"
                                },
                                {
                                    "0": "Professional and business services",
                                    "1": "15235537.5"
                                },
                                {
                                    "0": "Trade",
                                    "1": "14791384.5"
                                },
                                {
                                    "0": "Education and health services",
                                    "1": "14790615"
                                },
                                {
                                    "0": "Goods-producing",
                                    "1": "13069382.5"
                                },
                                {
                                    "0": "Health care and social assistance",
                                    "1": "12820494"
                                },
                                {
                                    "0": "Professional and technical services",
                                    "1": "8898856.5"
                                },
                                {
                                    "0": "Manufacturing",
                                    "1": "7451841.5"
                                },
                                {
                                    "0": "Financial activities",
                                    "1": "6398197"
                                }
                            ]
                        },
                        "text/html": [
                            "<table>",
                            "<tr><th>industry_name</th><th>avg_weekly_payroll</th></tr>",
                            "<tr><td>Total private</td><td>73986236.5</td></tr>",
                            "<tr><td>Private service-providing</td><td>60861246.5</td></tr>",
                            "<tr><td>Professional and business services</td><td>15235537.5</td></tr>",
                            "<tr><td>Trade</td><td>14791384.5</td></tr>",
                            "<tr><td>Education and health services</td><td>14790615</td></tr>",
                            "<tr><td>Goods-producing</td><td>13069382.5</td></tr>",
                            "<tr><td>Health care and social assistance</td><td>12820494</td></tr>",
                            "<tr><td>Professional and technical services</td><td>8898856.5</td></tr>",
                            "<tr><td>Manufacturing</td><td>7451841.5</td></tr>",
                            "<tr><td>Financial activities</td><td>6398197</td></tr>",
                            "</table>"
                        ]
                    }
                },
                {
                    "output_type": "execute_result",
                    "metadata": {},
                    "execution_count": 47,
                    "data": {
                        "application/vnd.dataresource+json": {
                            "schema": {
                                "fields": [
                                    {
                                        "name": "industry_name"
                                    },
                                    {
                                        "name": "avg_weekly_payroll"
                                    }
                                ]
                            },
                            "data": [
                                {
                                    "0": "Coin-operated laundries and drycleaners",
                                    "1": "10112"
                                },
                                {
                                    "0": "Clothing accessories stores",
                                    "1": "12179"
                                },
                                {
                                    "0": "Marinas",
                                    "1": "12980"
                                },
                                {
                                    "0": "Seafood product preparation and packaging",
                                    "1": "13100.5"
                                },
                                {
                                    "0": "Bowling centers",
                                    "1": "14037.5"
                                },
                                {
                                    "0": "Crushed and broken limestone mining",
                                    "1": "15074"
                                },
                                {
                                    "0": "Skiing facilities",
                                    "1": "15102.5"
                                },
                                {
                                    "0": "Florists",
                                    "1": "15185"
                                },
                                {
                                    "0": "Land subdivision",
                                    "1": "15404"
                                },
                                {
                                    "0": "RV parks and recreational camps",
                                    "1": "15449"
                                }
                            ]
                        },
                        "text/html": [
                            "<table>",
                            "<tr><th>industry_name</th><th>avg_weekly_payroll</th></tr>",
                            "<tr><td>Coin-operated laundries and drycleaners</td><td>10112</td></tr>",
                            "<tr><td>Clothing accessories stores</td><td>12179</td></tr>",
                            "<tr><td>Marinas</td><td>12980</td></tr>",
                            "<tr><td>Seafood product preparation and packaging</td><td>13100.5</td></tr>",
                            "<tr><td>Bowling centers</td><td>14037.5</td></tr>",
                            "<tr><td>Crushed and broken limestone mining</td><td>15074</td></tr>",
                            "<tr><td>Skiing facilities</td><td>15102.5</td></tr>",
                            "<tr><td>Florists</td><td>15185</td></tr>",
                            "<tr><td>Land subdivision</td><td>15404</td></tr>",
                            "<tr><td>RV parks and recreational camps</td><td>15449</td></tr>",
                            "</table>"
                        ]
                    }
                }
            ],
            "execution_count": 47
        },
        {
            "cell_type": "markdown",
            "source": [
                "## <span style=\"font-size: 12pt; font-family: Montserrat, sans-serif; color: rgb(53, 74, 95); background-color: rgb(255, 255, 255); font-weight: 700; font-variant-numeric: normal; font-variant-east-asian: normal; vertical-align: baseline; white-space: pre-wrap;\">Subqueries, Unions, Derived Tables, Oh My!</span>\n",
                "\n",
                "1. <span style=\"background-color: rgb(255, 255, 255); font-size: 10pt; white-space: pre-wrap; color: rgb(102, 102, 102); font-family: Arvo, serif;\">Write a query that returns the series_id, industry_code, industry_name, and value from the january_2017 table but only if that value is greater than the average value for annual_2016 of data_type_code 82.</span>"
            ],
            "metadata": {
                "azdata_cell_guid": "e98ec195-5399-4718-83ef-54fb954662a5"
            },
            "attachments": {}
        },
        {
            "cell_type": "code",
            "source": [
                "SELECT top 10 s.series_id, i.industry_code, i.industry_name, j.[value]\n",
                "FROM LaborStatisticsDB.dbo.january_2017 AS j\n",
                "JOIN LaborStatisticsDB.dbo.series AS s \n",
                "ON j.series_id = s.series_id\n",
                "JOIN LaborStatisticsDB.dbo.industry AS i\n",
                "ON s.industry_code = i.industry_code\n",
                "WHERE j.value> (select avg(a.value)\n",
                "     FROM LaborStatisticsDB.dbo.annual_2016 AS a\n",
                "     JOIN LaborStatisticsDB.dbo.series AS s \n",
                "     ON a.series_id = s.series_id\n",
                "     where s.data_type_code = '82') \n",
                "     "
            ],
            "metadata": {
                "azdata_cell_guid": "7c85f70b-528f-4cbd-bd8e-a6efab1c18df",
                "language": "sql"
            },
            "outputs": [
                {
                    "output_type": "display_data",
                    "data": {
                        "text/html": "(10 rows affected)"
                    },
                    "metadata": {}
                },
                {
                    "output_type": "display_data",
                    "data": {
                        "text/html": "Total execution time: 00:00:00.124"
                    },
                    "metadata": {}
                },
                {
                    "output_type": "execute_result",
                    "metadata": {},
                    "execution_count": 53,
                    "data": {
                        "application/vnd.dataresource+json": {
                            "schema": {
                                "fields": [
                                    {
                                        "name": "series_id"
                                    },
                                    {
                                        "name": "industry_code"
                                    },
                                    {
                                        "name": "industry_name"
                                    },
                                    {
                                        "name": "value"
                                    }
                                ]
                            },
                            "data": [
                                {
                                    "0": "CES0500000056",
                                    "1": "5000000",
                                    "2": "Total private",
                                    "3": "4239112"
                                },
                                {
                                    "0": "CES0500000056",
                                    "1": "5000000",
                                    "2": "Total private",
                                    "3": "4239112"
                                },
                                {
                                    "0": "CES0500000057",
                                    "1": "5000000",
                                    "2": "Total private",
                                    "3": "110301694"
                                },
                                {
                                    "0": "CES0500000057",
                                    "1": "5000000",
                                    "2": "Total private",
                                    "3": "110301694"
                                },
                                {
                                    "0": "CES0500000081",
                                    "1": "5000000",
                                    "2": "Total private",
                                    "3": "3412651"
                                },
                                {
                                    "0": "CES0500000081",
                                    "1": "5000000",
                                    "2": "Total private",
                                    "3": "3412651"
                                },
                                {
                                    "0": "CES0500000082",
                                    "1": "5000000",
                                    "2": "Total private",
                                    "3": "74498171"
                                },
                                {
                                    "0": "CES0500000082",
                                    "1": "5000000",
                                    "2": "Total private",
                                    "3": "74498171"
                                },
                                {
                                    "0": "CES0600000057",
                                    "1": "6000000",
                                    "2": "Goods-producing",
                                    "3": "21779094"
                                },
                                {
                                    "0": "CES0600000057",
                                    "1": "6000000",
                                    "2": "Goods-producing",
                                    "3": "21779094"
                                }
                            ]
                        },
                        "text/html": [
                            "<table>",
                            "<tr><th>series_id</th><th>industry_code</th><th>industry_name</th><th>value</th></tr>",
                            "<tr><td>CES0500000056</td><td>5000000</td><td>Total private</td><td>4239112</td></tr>",
                            "<tr><td>CES0500000056</td><td>5000000</td><td>Total private</td><td>4239112</td></tr>",
                            "<tr><td>CES0500000057</td><td>5000000</td><td>Total private</td><td>110301694</td></tr>",
                            "<tr><td>CES0500000057</td><td>5000000</td><td>Total private</td><td>110301694</td></tr>",
                            "<tr><td>CES0500000081</td><td>5000000</td><td>Total private</td><td>3412651</td></tr>",
                            "<tr><td>CES0500000081</td><td>5000000</td><td>Total private</td><td>3412651</td></tr>",
                            "<tr><td>CES0500000082</td><td>5000000</td><td>Total private</td><td>74498171</td></tr>",
                            "<tr><td>CES0500000082</td><td>5000000</td><td>Total private</td><td>74498171</td></tr>",
                            "<tr><td>CES0600000057</td><td>6000000</td><td>Goods-producing</td><td>21779094</td></tr>",
                            "<tr><td>CES0600000057</td><td>6000000</td><td>Goods-producing</td><td>21779094</td></tr>",
                            "</table>"
                        ]
                    }
                }
            ],
            "execution_count": 53
        },
        {
            "cell_type": "markdown",
            "source": [
                "2. <span style=\"background-color: rgb(255, 255, 255); font-size: 10pt; white-space: pre-wrap; color: rgb(102, 102, 102); font-family: Arvo, serif;\">Create a Union table comparing average weekly earnings&nbsp; of production and nonsupervisory employees between annual_16 and january_17 using the data type 30.&nbsp; Round to the nearest penny.&nbsp; You should have a column for the average earnings and a column for the year, and the period.</span>"
            ],
            "metadata": {
                "azdata_cell_guid": "1bb0ed09-4b02-4132-910e-5903697628af"
            },
            "attachments": {}
        },
        {
            "cell_type": "code",
            "source": [
                "\n",
                "SELECT top 5 *\n",
                "FROM LaborStatisticsDB.dbo.series\n",
                "where series_title like 'Average weekly earnings of production and nonsupervisory employees' and data_type_code = '30'\n",
                "\n",
                "SELECT top 10 i.industry_name, round(AVG(j.value), 0) AS avg_weekly_earning\n",
                "FROM LaborStatisticsDB.dbo.january_2017 AS j\n",
                "JOIN LaborStatisticsDB.dbo.series AS s \n",
                "ON j.series_id = s.series_id\n",
                "JOIN LaborStatisticsDB.dbo.industry AS i\n",
                "ON s.industry_code = i.industry_code\n",
                "JOIN LaborStatisticsDB.dbo.annual_2016 AS p\n",
                "ON p.series_id = s.series_id\n",
                "where series_title like 'Average weekly earnings of production and nonsupervisory employees' \n",
                "and data_type_code = '30'\n",
                "and j.year = '2017'\n",
                "GROUP BY i.industry_name\n",
                "ORDER BY avg_weekly_earning ASC\n",
                "\n",
                ""
            ],
            "metadata": {
                "azdata_cell_guid": "0841b6d6-9af2-41ba-8e28-dc40d08bd061",
                "language": "sql"
            },
            "outputs": [
                {
                    "output_type": "display_data",
                    "data": {
                        "text/html": "(5 rows affected)"
                    },
                    "metadata": {}
                },
                {
                    "output_type": "display_data",
                    "data": {
                        "text/html": "(10 rows affected)"
                    },
                    "metadata": {}
                },
                {
                    "output_type": "display_data",
                    "data": {
                        "text/html": "Total execution time: 00:00:00.266"
                    },
                    "metadata": {}
                },
                {
                    "output_type": "execute_result",
                    "metadata": {},
                    "execution_count": 65,
                    "data": {
                        "application/vnd.dataresource+json": {
                            "schema": {
                                "fields": [
                                    {
                                        "name": "series_id"
                                    },
                                    {
                                        "name": "supersector_code"
                                    },
                                    {
                                        "name": "industry_code"
                                    },
                                    {
                                        "name": "data_type_code"
                                    },
                                    {
                                        "name": "seasonal"
                                    },
                                    {
                                        "name": "series_title"
                                    }
                                ]
                            },
                            "data": [
                                {
                                    "0": "CES0500000030",
                                    "1": "5",
                                    "2": "05000000",
                                    "3": "30",
                                    "4": "S",
                                    "5": "Average weekly earnings of production and nonsupervisory employees"
                                },
                                {
                                    "0": "CES0600000030",
                                    "1": "6",
                                    "2": "06000000",
                                    "3": "30",
                                    "4": "S",
                                    "5": "Average weekly earnings of production and nonsupervisory employees"
                                },
                                {
                                    "0": "CES0800000030",
                                    "1": "8",
                                    "2": "08000000",
                                    "3": "30",
                                    "4": "S",
                                    "5": "Average weekly earnings of production and nonsupervisory employees"
                                },
                                {
                                    "0": "CES1000000030",
                                    "1": "10",
                                    "2": "10000000",
                                    "3": "30",
                                    "4": "S",
                                    "5": "Average weekly earnings of production and nonsupervisory employees"
                                },
                                {
                                    "0": "CES1011330030",
                                    "1": "10",
                                    "2": "10113300",
                                    "3": "30",
                                    "4": "S",
                                    "5": "Average weekly earnings of production and nonsupervisory employees"
                                }
                            ]
                        },
                        "text/html": [
                            "<table>",
                            "<tr><th>series_id</th><th>supersector_code</th><th>industry_code</th><th>data_type_code</th><th>seasonal</th><th>series_title</th></tr>",
                            "<tr><td>CES0500000030</td><td>5</td><td>05000000</td><td>30</td><td>S</td><td>Average weekly earnings of production and nonsupervisory employees</td></tr>",
                            "<tr><td>CES0600000030</td><td>6</td><td>06000000</td><td>30</td><td>S</td><td>Average weekly earnings of production and nonsupervisory employees</td></tr>",
                            "<tr><td>CES0800000030</td><td>8</td><td>08000000</td><td>30</td><td>S</td><td>Average weekly earnings of production and nonsupervisory employees</td></tr>",
                            "<tr><td>CES1000000030</td><td>10</td><td>10000000</td><td>30</td><td>S</td><td>Average weekly earnings of production and nonsupervisory employees</td></tr>",
                            "<tr><td>CES1011330030</td><td>10</td><td>10113300</td><td>30</td><td>S</td><td>Average weekly earnings of production and nonsupervisory employees</td></tr>",
                            "</table>"
                        ]
                    }
                },
                {
                    "output_type": "execute_result",
                    "metadata": {},
                    "execution_count": 65,
                    "data": {
                        "application/vnd.dataresource+json": {
                            "schema": {
                                "fields": [
                                    {
                                        "name": "industry_name"
                                    },
                                    {
                                        "name": "avg_weekly_earning"
                                    }
                                ]
                            },
                            "data": [
                                {
                                    "0": "Family clothing stores",
                                    "1": "235"
                                },
                                {
                                    "0": "Bowling centers",
                                    "1": "237"
                                },
                                {
                                    "0": "Women's clothing stores",
                                    "1": "239"
                                },
                                {
                                    "0": "Fitness and recreational sports centers",
                                    "1": "244"
                                },
                                {
                                    "0": "Limited-service restaurants",
                                    "1": "249"
                                },
                                {
                                    "0": "Clothing stores",
                                    "1": "252"
                                },
                                {
                                    "0": "Snack and nonalcoholic beverage bars",
                                    "1": "260"
                                },
                                {
                                    "0": "Cafeterias",
                                    "1": "270"
                                },
                                {
                                    "0": "Gift",
                                    "1": "270"
                                },
                                {
                                    "0": "Civic and social organizations",
                                    "1": "274"
                                }
                            ]
                        },
                        "text/html": [
                            "<table>",
                            "<tr><th>industry_name</th><th>avg_weekly_earning</th></tr>",
                            "<tr><td>Family clothing stores</td><td>235</td></tr>",
                            "<tr><td>Bowling centers</td><td>237</td></tr>",
                            "<tr><td>Women's clothing stores</td><td>239</td></tr>",
                            "<tr><td>Fitness and recreational sports centers</td><td>244</td></tr>",
                            "<tr><td>Limited-service restaurants</td><td>249</td></tr>",
                            "<tr><td>Clothing stores</td><td>252</td></tr>",
                            "<tr><td>Snack and nonalcoholic beverage bars</td><td>260</td></tr>",
                            "<tr><td>Cafeterias</td><td>270</td></tr>",
                            "<tr><td>Gift</td><td>270</td></tr>",
                            "<tr><td>Civic and social organizations</td><td>274</td></tr>",
                            "</table>"
                        ]
                    }
                }
            ],
            "execution_count": 65
        },
        {
            "cell_type": "markdown",
            "source": [
                "## <span style=\"font-size:12pt;font-family:Montserrat, sans-serif;color:rgb(53, 74, 95);background-color:rgb(255, 255, 255);font-weight:700;vertical-align:baseline;white-space:pre-wrap;\">Summarize Your Results</span>\n",
                "\n",
                "<span style=\"font-size:10pt;font-family:Arvo, serif;color:rgb(102, 102, 102);background-color:rgb(255, 255, 255);vertical-align:baseline;white-space:pre-wrap;\">With what you know now about the </span> <span style=\"background-color:rgb(255, 255, 255);color:rgb(102, 102, 102);font-family:&quot;Times New Roman&quot;;font-size:13.3333px;white-space:pre-wrap;\">Bureau of Labor Statistics (BLS) Current Employment Survey (CES) results and working with the</span> <span style=\"color:rgb(102, 102, 102);white-space:pre-wrap;font-family:&quot;Times New Roman&quot;;font-size:13.3333px;\">Labor Statistics Database</span><span style=\"background-color:rgb(255, 255, 255);color:rgb(102, 102, 102);font-family:Arvo, serif;font-size:10pt;white-space:pre-wrap;\">, answer the following questions. Note that while this is subjective, you should include relevant data to back up your opinion.</span>\n",
                "\n",
                "1. <span style=\"background-color:rgb(255, 255, 255);font-size:10pt;white-space:pre-wrap;color:rgb(102, 102, 102);font-family:Arvo, serif;\">During which time period did production and nonsupervisory employees fare better?</span>"
            ],
            "metadata": {
                "azdata_cell_guid": "780f65a6-b9e7-4f24-9132-293c47f559e8"
            },
            "attachments": {}
        },
        {
            "cell_type": "markdown",
            "source": [
                "Double click here to add your answer"
            ],
            "metadata": {
                "azdata_cell_guid": "f11f1fb2-f7d1-41e5-bc9c-84087d7cfc93"
            },
            "attachments": {}
        },
        {
            "cell_type": "markdown",
            "source": [
                "2. <span style=\"background-color: rgb(255, 255, 255); font-size: 10pt; white-space: pre-wrap; color: rgb(102, 102, 102); font-family: Arvo, serif;\">In which industries did production and nonsupervisory employees fare better?</span>"
            ],
            "metadata": {
                "azdata_cell_guid": "f606e5e5-f6f1-4070-bbfa-e31617b43e56"
            },
            "attachments": {}
        },
        {
            "cell_type": "markdown",
            "source": [
                "Double click here to add your answer."
            ],
            "metadata": {
                "azdata_cell_guid": "94e18f5d-b87b-4ba6-b1fd-bde035dafc04"
            },
            "attachments": {}
        },
        {
            "cell_type": "markdown",
            "source": [
                "3. <span style=\"font-size: 10pt; font-family: Arvo, serif; color: rgb(102, 102, 102); background-color: rgb(255, 255, 255); font-variant-numeric: normal; font-variant-east-asian: normal; vertical-align: baseline; white-space: pre-wrap;\">Now that you have explored the datasets, is there any data or information that you wish you had in this analysis?</span>"
            ],
            "metadata": {
                "azdata_cell_guid": "101e4449-601a-46c6-b217-23f3339cfa76"
            },
            "attachments": {}
        },
        {
            "cell_type": "markdown",
            "source": [
                "Double click here to add your answer."
            ],
            "metadata": {
                "azdata_cell_guid": "d07e9180-f5e0-49b4-b395-2c6c8a5f8aac"
            },
            "attachments": {}
        }
    ]
}